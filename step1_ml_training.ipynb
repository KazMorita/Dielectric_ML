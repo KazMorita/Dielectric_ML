{
 "cells": [
  {
   "cell_type": "markdown",
   "metadata": {},
   "source": [
    "# SVR training"
   ]
  },
  {
   "cell_type": "code",
   "execution_count": 1,
   "metadata": {},
   "outputs": [],
   "source": [
    "import matplotlib.pyplot as plt\n",
    "import numpy as np\n",
    "import pandas as pd\n",
    "import pickle\n",
    "import sklearn as sk\n",
    "import sklearn.metrics\n",
    "import sklearn.model_selection \n",
    "import sklearn.svm"
   ]
  },
  {
   "cell_type": "code",
   "execution_count": 2,
   "metadata": {},
   "outputs": [],
   "source": [
    "# constants\n",
    "PARA_JOBS = 8\n",
    "NUM_SEARCH_PARAMS = 10"
   ]
  },
  {
   "cell_type": "code",
   "execution_count": 3,
   "metadata": {},
   "outputs": [],
   "source": [
    "def custom_huber_loss(y_true, y_pred): # as implemented in https://github.com/astroML/astroML\n",
    "    delta = 1.0\n",
    "    t = abs((y_true - y_pred))\n",
    "    flag = t > delta\n",
    "    ave=np.mean(np.array(y_true))\n",
    "    return - (np.sum((~flag) * (0.5 * t * t) + (flag) * delta * (t - 0.5 * delta))\n",
    "        /np.sum(0.5*(y_true-ave)*(y_true-ave)))"
   ]
  },
  {
   "cell_type": "code",
   "execution_count": 4,
   "metadata": {},
   "outputs": [],
   "source": [
    "# read training and test dataset\n",
    "[X_trainvalid, X_test, y_trainvalid, y_test] = pickle.load(open('./dataset/raw_data.pickle', 'rb'))"
   ]
  },
  {
   "cell_type": "code",
   "execution_count": 5,
   "metadata": {},
   "outputs": [],
   "source": [
    "# read full dataset\n",
    "store = pd.HDFStore('./dataset/data_train.h5')\n",
    "df_dataset = store['df_all']\n",
    "store.close()"
   ]
  },
  {
   "cell_type": "code",
   "execution_count": null,
   "metadata": {},
   "outputs": [],
   "source": [
    "# train model\n",
    "huber_score=sklearn.metrics.make_scorer(custom_huber_loss, greater_is_better=True)\n",
    "params = {'C':np.logspace(-2,3,NUM_SEARCH_PARAMS), 'epsilon':np.logspace(-3,2,NUM_SEARCH_PARAMS)}\n",
    "\n",
    "grid_search = sk.model_selection.GridSearchCV(sk.svm.SVR(),params, cv=5, scoring=huber_score,\n",
    "                                              return_train_score=True, n_jobs=PARA_JOBS, verbose=0)\n",
    "grid_search.fit(X_trainvalid, y_trainvalid)\n",
    "model = sk.svm.SVR(**grid_search.best_params_)\n",
    "model.fit(X_trainvalid, y_trainvalid)\n",
    "print('best hyperparameters')\n",
    "print(grid_search.best_params_)"
   ]
  },
  {
   "cell_type": "code",
   "execution_count": null,
   "metadata": {},
   "outputs": [],
   "source": [
    "# predict\n",
    "pred_trainvalid = model.predict(X_trainvalid)\n",
    "pred_test = model.predict(X_test)"
   ]
  },
  {
   "cell_type": "code",
   "execution_count": null,
   "metadata": {},
   "outputs": [],
   "source": [
    "# create DataFrame for analyses\n",
    "df_temp=pd.DataFrame(pred_test, index=X_test.index, columns=['pred_svr'])\n",
    "df_dataset_pred_test = pd.concat([df_temp, df_dataset], axis=1, join_axes=[df_temp.index])\n",
    "df_dataset_pred_test['ml_error'] = df_dataset_pred_test['pred_svr']-df_dataset_pred_test['PG18PI17_e_electronic_ave']"
   ]
  },
  {
   "cell_type": "code",
   "execution_count": null,
   "metadata": {},
   "outputs": [],
   "source": [
    "# Fig 1\n",
    "plt.xlim([0,22])\n",
    "plt.ylim([0,22])\n",
    "plt.gca().set_aspect('equal', adjustable='box')\n",
    "plt.scatter(df_dataset_pred_test['PG18PI17_e_electronic_ave'],df_dataset_pred_test['pred_svr'], s=10)"
   ]
  },
  {
   "cell_type": "code",
   "execution_count": null,
   "metadata": {},
   "outputs": [],
   "source": [
    "# Table II\n",
    "fs = [sk.metrics.r2_score, sk.metrics.mean_absolute_error,\n",
    "     sk.metrics.mean_squared_error, \n",
    "     lambda y1,y2: np.sqrt(abs(sk.metrics.mean_squared_error(y1,y2)))]\n",
    "pd.DataFrame([[f(x[0],x[1]) for x in \n",
    "            [[y_trainvalid, pred_trainvalid],[y_test, pred_test]]]\n",
    "           for f in fs], index=['$r^2$','MAE','MSE','RMSE'],columns=['training','test'])"
   ]
  },
  {
   "cell_type": "code",
   "execution_count": null,
   "metadata": {},
   "outputs": [],
   "source": [
    "# Table III\n",
    "(df_dataset_pred_test.iloc[np.argsort(-abs(df_dataset_pred_test.ml_error)).values]\n",
    " [['MP_pretty_formula','pred_svr','PG18PI17_e_electronic_ave','ml_error','MP_e_above_hull']]\n",
    " .head(10).set_axis(\n",
    "     ['formula','$ε_{SVR}$','$ε_{Dataset}$','$\\Deltaε_{Dataset}$','$\\Delta E_{hull}$ (meV)'],\n",
    "     axis=1, inplace=False).reset_index(drop=True))"
   ]
  },
  {
   "cell_type": "code",
   "execution_count": null,
   "metadata": {},
   "outputs": [],
   "source": []
  }
 ],
 "metadata": {
  "kernelspec": {
   "display_name": "Python 3",
   "language": "python",
   "name": "python3"
  },
  "language_info": {
   "codemirror_mode": {
    "name": "ipython",
    "version": 3
   },
   "file_extension": ".py",
   "mimetype": "text/x-python",
   "name": "python",
   "nbconvert_exporter": "python",
   "pygments_lexer": "ipython3",
   "version": "3.7.6"
  }
 },
 "nbformat": 4,
 "nbformat_minor": 4
}
