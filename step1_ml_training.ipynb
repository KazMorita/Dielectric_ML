{
 "cells": [
  {
   "cell_type": "markdown",
   "metadata": {},
   "source": [
    "# SVR training"
   ]
  },
  {
   "cell_type": "code",
   "execution_count": 1,
   "metadata": {},
   "outputs": [],
   "source": [
    "import matplotlib.pyplot as plt\n",
    "import numpy as np\n",
    "import pandas as pd\n",
    "import pickle\n",
    "import sklearn as sk\n",
    "import sklearn.metrics\n",
    "import sklearn.model_selection \n",
    "import sklearn.svm"
   ]
  },
  {
   "cell_type": "code",
   "execution_count": 2,
   "metadata": {},
   "outputs": [],
   "source": [
    "# constants\n",
    "PARA_JOBS = 8\n",
    "NUM_SEARCH_PARAMS = 10"
   ]
  },
  {
   "cell_type": "code",
   "execution_count": 3,
   "metadata": {},
   "outputs": [],
   "source": [
    "def custom_huber_loss(y_true, y_pred): # as implemented in https://github.com/astroML/astroML\n",
    "    delta = 1.0\n",
    "    t = abs((y_true - y_pred))\n",
    "    flag = t > delta\n",
    "    ave=np.mean(np.array(y_true))\n",
    "    return - (np.sum((~flag) * (0.5 * t * t) + (flag) * delta * (t - 0.5 * delta))\n",
    "        /np.sum(0.5*(y_true-ave)*(y_true-ave)))"
   ]
  },
  {
   "cell_type": "code",
   "execution_count": 4,
   "metadata": {},
   "outputs": [],
   "source": [
    "# read training and test dataset\n",
    "[X_trainvalid, X_test, y_trainvalid, y_test] = pickle.load(open('./dataset/raw_data.pickle', 'rb'))"
   ]
  },
  {
   "cell_type": "code",
   "execution_count": 5,
   "metadata": {},
   "outputs": [],
   "source": [
    "# read full dataset\n",
    "store = pd.HDFStore('./dataset/data_train.h5')\n",
    "df_dataset = store['df_all']\n",
    "store.close()"
   ]
  },
  {
   "cell_type": "code",
   "execution_count": 6,
   "metadata": {},
   "outputs": [
    {
     "name": "stderr",
     "output_type": "stream",
     "text": [
      "/opt/conda/lib/python3.7/site-packages/sklearn/svm/base.py:193: FutureWarning: The default value of gamma will change from 'auto' to 'scale' in version 0.22 to account better for unscaled features. Set gamma explicitly to 'auto' or 'scale' to avoid this warning.\n",
      "  \"avoid this warning.\", FutureWarning)\n",
      "/opt/conda/lib/python3.7/site-packages/sklearn/svm/base.py:193: FutureWarning: The default value of gamma will change from 'auto' to 'scale' in version 0.22 to account better for unscaled features. Set gamma explicitly to 'auto' or 'scale' to avoid this warning.\n",
      "  \"avoid this warning.\", FutureWarning)\n"
     ]
    },
    {
     "name": "stdout",
     "output_type": "stream",
     "text": [
      "best hyperparameters\n",
      "{'C': 1000.0, 'epsilon': 0.046415888336127795}\n"
     ]
    }
   ],
   "source": [
    "# train model\n",
    "huber_score=sklearn.metrics.make_scorer(custom_huber_loss, greater_is_better=True)\n",
    "params = {'C':np.logspace(-2,3,NUM_SEARCH_PARAMS), 'epsilon':np.logspace(-3,2,NUM_SEARCH_PARAMS)}\n",
    "\n",
    "grid_search = sk.model_selection.GridSearchCV(sk.svm.SVR(),params, cv=5, scoring=huber_score,\n",
    "                                              return_train_score=True, n_jobs=PARA_JOBS, verbose=0)\n",
    "grid_search.fit(X_trainvalid, y_trainvalid)\n",
    "model = sk.svm.SVR(**grid_search.best_params_)\n",
    "model.fit(X_trainvalid, y_trainvalid)\n",
    "print('best hyperparameters')\n",
    "print(grid_search.best_params_)"
   ]
  },
  {
   "cell_type": "code",
   "execution_count": 7,
   "metadata": {},
   "outputs": [],
   "source": [
    "# predict\n",
    "pred_trainvalid = model.predict(X_trainvalid)\n",
    "pred_test = model.predict(X_test)"
   ]
  },
  {
   "cell_type": "code",
   "execution_count": 8,
   "metadata": {},
   "outputs": [],
   "source": [
    "# create DataFrame for analyses\n",
    "df_temp=pd.DataFrame(pred_test, index=X_test.index, columns=['pred_svr'])\n",
    "df_dataset_pred_test = pd.concat([df_temp, df_dataset], axis=1, join_axes=[df_temp.index])\n",
    "df_dataset_pred_test['ml_error'] = df_dataset_pred_test['pred_svr']-df_dataset_pred_test['PG18PI17_e_electronic_ave']"
   ]
  },
  {
   "cell_type": "code",
   "execution_count": 9,
   "metadata": {},
   "outputs": [
    {
     "data": {
      "text/plain": [
       "<matplotlib.collections.PathCollection at 0x7f826c2afbd0>"
      ]
     },
     "execution_count": 9,
     "metadata": {},
     "output_type": "execute_result"
    },
    {
     "data": {
      "image/png": "[encoded data removed]",
      "text/plain": [
       "<Figure size 432x288 with 1 Axes>"
      ]
     },
     "metadata": {
      "needs_background": "light"
     },
     "output_type": "display_data"
    }
   ],
   "source": [
    "# Fig 1\n",
    "plt.xlim([0,22])\n",
    "plt.ylim([0,22])\n",
    "plt.gca().set_aspect('equal', adjustable='box')\n",
    "plt.scatter(df_dataset_pred_test['PG18PI17_e_electronic_ave'],df_dataset_pred_test['pred_svr'], s=10)"
   ]
  },
  {
   "cell_type": "code",
   "execution_count": 10,
   "metadata": {},
   "outputs": [
    {
     "data": {
      "text/html": [
       "<div>\n",
       "<style scoped>\n",
       "    .dataframe tbody tr th:only-of-type {\n",
       "        vertical-align: middle;\n",
       "    }\n",
       "\n",
       "    .dataframe tbody tr th {\n",
       "        vertical-align: top;\n",
       "    }\n",
       "\n",
       "    .dataframe thead th {\n",
       "        text-align: right;\n",
       "    }\n",
       "</style>\n",
       "<table border=\"1\" class=\"dataframe\">\n",
       "  <thead>\n",
       "    <tr style=\"text-align: right;\">\n",
       "      <th></th>\n",
       "      <th>training</th>\n",
       "      <th>test</th>\n",
       "    </tr>\n",
       "  </thead>\n",
       "  <tbody>\n",
       "    <tr>\n",
       "      <th>$r^2$</th>\n",
       "      <td>0.919093</td>\n",
       "      <td>0.861518</td>\n",
       "    </tr>\n",
       "    <tr>\n",
       "      <th>MAE</th>\n",
       "      <td>0.239890</td>\n",
       "      <td>0.436142</td>\n",
       "    </tr>\n",
       "    <tr>\n",
       "      <th>MSE</th>\n",
       "      <td>0.686649</td>\n",
       "      <td>0.989959</td>\n",
       "    </tr>\n",
       "    <tr>\n",
       "      <th>RMSE</th>\n",
       "      <td>0.828643</td>\n",
       "      <td>0.994967</td>\n",
       "    </tr>\n",
       "  </tbody>\n",
       "</table>\n",
       "</div>"
      ],
      "text/plain": [
       "       training      test\n",
       "$r^2$  0.919093  0.861518\n",
       "MAE    0.239890  0.436142\n",
       "MSE    0.686649  0.989959\n",
       "RMSE   0.828643  0.994967"
      ]
     },
     "execution_count": 10,
     "metadata": {},
     "output_type": "execute_result"
    }
   ],
   "source": [
    "# Table II\n",
    "fs = [sk.metrics.r2_score, sk.metrics.mean_absolute_error,\n",
    "     sk.metrics.mean_squared_error, \n",
    "     lambda y1,y2: np.sqrt(abs(sk.metrics.mean_squared_error(y1,y2)))]\n",
    "pd.DataFrame([[f(x[0],x[1]) for x in \n",
    "            [[y_trainvalid, pred_trainvalid],[y_test, pred_test]]]\n",
    "           for f in fs], index=['$r^2$','MAE','MSE','RMSE'],columns=['training','test'])"
   ]
  },
  {
   "cell_type": "code",
   "execution_count": 11,
   "metadata": {},
   "outputs": [
    {
     "data": {
      "text/html": [
       "<div>\n",
       "<style scoped>\n",
       "    .dataframe tbody tr th:only-of-type {\n",
       "        vertical-align: middle;\n",
       "    }\n",
       "\n",
       "    .dataframe tbody tr th {\n",
       "        vertical-align: top;\n",
       "    }\n",
       "\n",
       "    .dataframe thead th {\n",
       "        text-align: right;\n",
       "    }\n",
       "</style>\n",
       "<table border=\"1\" class=\"dataframe\">\n",
       "  <thead>\n",
       "    <tr style=\"text-align: right;\">\n",
       "      <th></th>\n",
       "      <th>formula</th>\n",
       "      <th>$ε_{SVR}$</th>\n",
       "      <th>$ε_{Dataset}$</th>\n",
       "      <th>$\\Deltaε_{Dataset}$</th>\n",
       "      <th>$\\Delta E_{hull}$ (meV)</th>\n",
       "    </tr>\n",
       "  </thead>\n",
       "  <tbody>\n",
       "    <tr>\n",
       "      <th>0</th>\n",
       "      <td>LiBC</td>\n",
       "      <td>3.535632</td>\n",
       "      <td>13.527296</td>\n",
       "      <td>-9.991664</td>\n",
       "      <td>0.0</td>\n",
       "    </tr>\n",
       "    <tr>\n",
       "      <th>1</th>\n",
       "      <td>Ga2Te5</td>\n",
       "      <td>10.479192</td>\n",
       "      <td>17.192620</td>\n",
       "      <td>-6.713428</td>\n",
       "      <td>0.0</td>\n",
       "    </tr>\n",
       "    <tr>\n",
       "      <th>2</th>\n",
       "      <td>LiAsS2</td>\n",
       "      <td>7.045134</td>\n",
       "      <td>12.385101</td>\n",
       "      <td>-5.339967</td>\n",
       "      <td>0.0</td>\n",
       "    </tr>\n",
       "    <tr>\n",
       "      <th>3</th>\n",
       "      <td>In2HgTe4</td>\n",
       "      <td>11.688782</td>\n",
       "      <td>16.202640</td>\n",
       "      <td>-4.513858</td>\n",
       "      <td>0.0</td>\n",
       "    </tr>\n",
       "    <tr>\n",
       "      <th>4</th>\n",
       "      <td>KCaBi</td>\n",
       "      <td>9.221002</td>\n",
       "      <td>7.211809</td>\n",
       "      <td>2.009192</td>\n",
       "      <td>0.0</td>\n",
       "    </tr>\n",
       "    <tr>\n",
       "      <th>5</th>\n",
       "      <td>CdCN2</td>\n",
       "      <td>6.550195</td>\n",
       "      <td>4.593316</td>\n",
       "      <td>1.956880</td>\n",
       "      <td>0.0</td>\n",
       "    </tr>\n",
       "    <tr>\n",
       "      <th>6</th>\n",
       "      <td>HfNCl</td>\n",
       "      <td>6.883461</td>\n",
       "      <td>4.937166</td>\n",
       "      <td>1.946295</td>\n",
       "      <td>0.0</td>\n",
       "    </tr>\n",
       "    <tr>\n",
       "      <th>7</th>\n",
       "      <td>CuBS2</td>\n",
       "      <td>6.590452</td>\n",
       "      <td>8.532116</td>\n",
       "      <td>-1.941665</td>\n",
       "      <td>0.0</td>\n",
       "    </tr>\n",
       "    <tr>\n",
       "      <th>8</th>\n",
       "      <td>CuBSe2</td>\n",
       "      <td>8.270815</td>\n",
       "      <td>10.034238</td>\n",
       "      <td>-1.763424</td>\n",
       "      <td>0.0</td>\n",
       "    </tr>\n",
       "    <tr>\n",
       "      <th>9</th>\n",
       "      <td>Cu2HgI4</td>\n",
       "      <td>6.910665</td>\n",
       "      <td>8.532187</td>\n",
       "      <td>-1.621522</td>\n",
       "      <td>0.0</td>\n",
       "    </tr>\n",
       "  </tbody>\n",
       "</table>\n",
       "</div>"
      ],
      "text/plain": [
       "    formula  $ε_{SVR}$  $ε_{Dataset}$  $\\Deltaε_{Dataset}$  \\\n",
       "0      LiBC   3.535632      13.527296            -9.991664   \n",
       "1    Ga2Te5  10.479192      17.192620            -6.713428   \n",
       "2    LiAsS2   7.045134      12.385101            -5.339967   \n",
       "3  In2HgTe4  11.688782      16.202640            -4.513858   \n",
       "4     KCaBi   9.221002       7.211809             2.009192   \n",
       "5     CdCN2   6.550195       4.593316             1.956880   \n",
       "6     HfNCl   6.883461       4.937166             1.946295   \n",
       "7     CuBS2   6.590452       8.532116            -1.941665   \n",
       "8    CuBSe2   8.270815      10.034238            -1.763424   \n",
       "9   Cu2HgI4   6.910665       8.532187            -1.621522   \n",
       "\n",
       "   $\\Delta E_{hull}$ (meV)  \n",
       "0                      0.0  \n",
       "1                      0.0  \n",
       "2                      0.0  \n",
       "3                      0.0  \n",
       "4                      0.0  \n",
       "5                      0.0  \n",
       "6                      0.0  \n",
       "7                      0.0  \n",
       "8                      0.0  \n",
       "9                      0.0  "
      ]
     },
     "execution_count": 11,
     "metadata": {},
     "output_type": "execute_result"
    }
   ],
   "source": [
    "# Table III\n",
    "(df_dataset_pred_test.iloc[np.argsort(-abs(df_dataset_pred_test.ml_error)).values]\n",
    " [['MP_pretty_formula','pred_svr','PG18PI17_e_electronic_ave','ml_error','MP_e_above_hull']]\n",
    " .head(10).set_axis(\n",
    "     ['formula','$ε_{SVR}$','$ε_{Dataset}$','$\\Deltaε_{Dataset}$','$\\Delta E_{hull}$ (meV)'],\n",
    "     axis=1, inplace=False).reset_index(drop=True))"
   ]
  },
  {
   "cell_type": "code",
   "execution_count": null,
   "metadata": {},
   "outputs": [],
   "source": []
  }
 ],
 "metadata": {
  "kernelspec": {
   "display_name": "Python 3",
   "language": "python",
   "name": "python3"
  },
  "language_info": {
   "codemirror_mode": {
    "name": "ipython",
    "version": 3
   },
   "file_extension": ".py",
   "mimetype": "text/x-python",
   "name": "python",
   "nbconvert_exporter": "python",
   "pygments_lexer": "ipython3",
   "version": "3.7.6"
  }
 },
 "nbformat": 4,
 "nbformat_minor": 4
}
